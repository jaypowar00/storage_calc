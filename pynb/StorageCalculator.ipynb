{
 "cells": [
  {
   "cell_type": "markdown",
   "metadata": {},
   "source": [
    "# Storage Calculator\n",
    "##### Usefull for storage operations like adding/subtracting b,mb,gb,tb's values!\n",
    "\n",
    "+ ## usage: give input string like  \n",
    "> # `12b + 43gb - 8mb`"
   ]
  },
  {
   "cell_type": "markdown",
   "metadata": {},
   "source": [
    "# Module 1: addition (for storage units)"
   ]
  },
  {
   "cell_type": "code",
   "execution_count": 71,
   "metadata": {},
   "outputs": [
    {
     "name": "stdout",
     "output_type": "stream",
     "text": [
      "Enter your operation : 13b +12b\n",
      "__________________________________________________\n",
      "2.384185791015625e-05\n",
      "Total space : 25.0 Bytes\n"
     ]
    }
   ],
   "source": [
    "istr=input(\"Enter your addition operation : \")\n",
    "istr=istr.split('+')\n",
    "items = []\n",
    "for i in range(len(istr)):\n",
    "    items.append(istr[i].split()[0])\n",
    "values = []\n",
    "for i in range(len(items)):\n",
    "    values.append(int(items[i].split('tb')[0])*1024*1024*1024*1024 if 'tb' in items[i] else int(items[i].split('gb')[0])*1024*1024*1024 if 'gb' in items[i] else int(items[i].split('mb')[0])*1024*1024 if 'mb' in items[i] else int(items[i].split('kb')[0])*1024 if 'kb' in items[i] else int(items[i].split('b')[0]) if 'b' in items[i] else int(items[i].split('TB')[0])*1024*1024*1024*1024 if 'TB' in items[i] else int(items[i].split('GB')[0])*1024*1024*1024 if 'GB' in items[i] else int(items[i].split('MB')[0])*1024*1024 if 'MB' in items[i] else int(items[i].split('KB')[0])*1024 if 'KB' in items[i] else int(items[i].split('B')[0]))\n",
    "    total=float(0)\n",
    "for i in values:\n",
    "    total+=i\n",
    "print(\"_\"*50)\n",
    "if int(total/(1024*1024*1024*1024))>0:\n",
    "    print(f'Total space : {total/(1024*1024*1024*1024)} TB')\n",
    "elif int(total/(1024*1024*1024))>0:\n",
    "    print(f'Total space : {total/(1024*1024*1024)} GB')\n",
    "elif int(total/(1024*1024))>0:\n",
    "    print(f'Total space : {total/(1024*1024)} MB')\n",
    "elif int(total/(1024))>0:\n",
    "    print(f'Total space : {total/1024} KB')\n",
    "else:\n",
    "    print(f'Total space : {total} Bytes')"
   ]
  },
  {
   "cell_type": "markdown",
   "metadata": {},
   "source": [
    "# module 2: add+sub (basic)"
   ]
  },
  {
   "cell_type": "code",
   "execution_count": 104,
   "metadata": {},
   "outputs": [
    {
     "name": "stdout",
     "output_type": "stream",
     "text": [
      "Enter your operation : 1 +2\n",
      "final answer : 3.0\n"
     ]
    }
   ],
   "source": [
    "try:\n",
    "    istr=input(\"Enter your operation : \")\n",
    "    operations = []\n",
    "    values = []\n",
    "    for i in range(len(istr)):\n",
    "        if istr[i]=='+' or istr[i]=='-':\n",
    "            operations.append(istr[i])\n",
    "        elif istr[i]!=' ':\n",
    "            values.append(istr[i])\n",
    "        else:\n",
    "            continue\n",
    "    total=0\n",
    "    for i in range(len(values)):\n",
    "        if i>0 and operations[i-1]==\"+\":\n",
    "            total+=float(values[i])\n",
    "        elif i>0 and operations[i-1]=='-':\n",
    "            total-=float(values[i])\n",
    "        else:\n",
    "            total=float(values[i])\n",
    "    print(f'final answer : {total}')\n",
    "except:\n",
    "    print('something went wrong')"
   ]
  },
  {
   "cell_type": "markdown",
   "metadata": {},
   "source": [
    "# Final Module"
   ]
  },
  {
   "cell_type": "code",
   "execution_count": 188,
   "metadata": {},
   "outputs": [
    {
     "name": "stdout",
     "output_type": "stream",
     "text": [
      "Enter Operation : 1gb - 900mb + 875kb - 39b +3mb\n",
      "__________________________________________________\n",
      "Total space : 127.85445499420166 MB\n"
     ]
    }
   ],
   "source": [
    "istr = input(\"Enter Operation : \")\n",
    "values=[]\n",
    "operations=[]\n",
    "for i in range(len(istr)):\n",
    "    if istr[i]=='+':\n",
    "        operations.append((i,'+'))\n",
    "    elif istr[i]=='-':\n",
    "        operations.append((i,'-'))\n",
    "    else:\n",
    "        continue\n",
    "operations\n",
    "for i in range(len(operations)+1):\n",
    "    if i==0:\n",
    "        values.append(istr[:operations[i][0]].split()[0])\n",
    "    elif i<=len(operations)-1:\n",
    "        values.append(istr[operations[i-1][0]+1:operations[i][0]].split()[0])\n",
    "    else:\n",
    "        values.append(istr[operations[i-1][0]+1:].split()[0])\n",
    "values\n",
    "for i in range(len(values)):\n",
    "    values[i]=int(values[i].split('tb')[0])*1024*1024*1024*1024 if 'tb' in values[i] else int(values[i].split('gb')[0])*1024*1024*1024 if 'gb' in values[i] else int(values[i].split('mb')[0])*1024*1024 if 'mb' in values[i] else int(values[i].split('kb')[0])*1024 if 'kb' in values[i] else int(values[i].split('b')[0]) if 'b' in values[i] else int(values[i].split('TB')[0])*1024*1024*1024*1024 if 'TB' in values[i] else int(values[i].split('GB')[0])*1024*1024*1024 if 'GB' in values[i] else int(values[i].split('MB')[0])*1024*1024 if 'MB' in values[i] else int(values[i].split('KB')[0])*1024 if 'KB' in values[i] else int(values[i].split('B')[0])\n",
    "total=0.0\n",
    "for i in range(len(values)):\n",
    "    if i>0 and operations[i-1][1]==\"+\":\n",
    "        total+=float(values[i])\n",
    "    elif i>0 and operations[i-1][1]=='-':\n",
    "        total-=float(values[i])\n",
    "    else:\n",
    "        total=float(values[i])\n",
    "print(\"_\"*50)\n",
    "if int(total/(1024*1024*1024*1024))>0:\n",
    "    print(f'Total space : {total/(1024*1024*1024*1024)} TB')\n",
    "elif int(total/(1024*1024*1024))>0:\n",
    "    print(f'Total space : {total/(1024*1024*1024)} GB')\n",
    "elif int(total/(1024*1024))>0:\n",
    "    print(f'Total space : {total/(1024*1024)} MB')\n",
    "elif int(total/(1024))>0:\n",
    "    print(f'Total space : {total/1024} KB')\n",
    "else:\n",
    "    print(f'Total space : {total} Bytes')"
   ]
  }
 ],
 "metadata": {
  "kernelspec": {
   "display_name": "Python 3",
   "language": "python",
   "name": "python3"
  },
  "language_info": {
   "codemirror_mode": {
    "name": "ipython",
    "version": 3
   },
   "file_extension": ".py",
   "mimetype": "text/x-python",
   "name": "python",
   "nbconvert_exporter": "python",
   "pygments_lexer": "ipython3",
   "version": "3.7.6"
  }
 },
 "nbformat": 4,
 "nbformat_minor": 4
}
